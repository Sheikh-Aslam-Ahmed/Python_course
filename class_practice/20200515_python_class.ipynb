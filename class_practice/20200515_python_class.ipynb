{
 "cells": [
  {
   "cell_type": "markdown",
   "metadata": {},
   "source": [
    "# try except else finally continue..."
   ]
  },
  {
   "cell_type": "code",
   "execution_count": 3,
   "metadata": {},
   "outputs": [],
   "source": [
    "# version 1\n",
    "def ask_int1():\n",
    "    try:\n",
    "        a = int(input(\"Please enter integer value\"))\n",
    "    except Exception as ex:\n",
    "        print(\"exception occoured : \"+str(ex))\n",
    "    else:\n",
    "        print(\"it has executed try block without error\")\n",
    "    finally:\n",
    "        print(\"this block should execute itself no matter what\")\n",
    "    print(\"end of code\")"
   ]
  },
  {
   "cell_type": "code",
   "execution_count": 5,
   "metadata": {},
   "outputs": [
    {
     "name": "stdout",
     "output_type": "stream",
     "text": [
      "Please enter integer value788\n",
      "it has executed try block without error\n",
      "this block should execute itself no matter what\n",
      "end of code\n"
     ]
    }
   ],
   "source": [
    "ask_int1()"
   ]
  },
  {
   "cell_type": "code",
   "execution_count": 16,
   "metadata": {},
   "outputs": [],
   "source": [
    "# version 2\n",
    "def ask_int2():\n",
    "    try:\n",
    "        a = int(input(\"Please enter integer value\"))\n",
    "    except Exception as ex:\n",
    "        print(\"exception occoured : \"+str(ex))\n",
    "    else:\n",
    "        print(\"it has executed try block without error\")\n",
    "    finally:\n",
    "        print(\"this block should execute itself no matter what\")\n",
    "        try:\n",
    "            print(\"entered integer value : \")\n",
    "            print(a)\n",
    "        except Exception as ex:\n",
    "            print(\"exception occoured : \"+str(ex))\n",
    "    print(\"end of code\")"
   ]
  },
  {
   "cell_type": "code",
   "execution_count": 17,
   "metadata": {},
   "outputs": [
    {
     "name": "stdout",
     "output_type": "stream",
     "text": [
      "Please enter integer valuehk\n",
      "exception occoured : invalid literal for int() with base 10: 'hk'\n",
      "this block should execute itself no matter what\n",
      "entered integer value : \n",
      "exception occoured : local variable 'a' referenced before assignment\n",
      "end of code\n"
     ]
    }
   ],
   "source": [
    "ask_int2()"
   ]
  },
  {
   "cell_type": "code",
   "execution_count": 18,
   "metadata": {},
   "outputs": [],
   "source": [
    "# version 3\n",
    "def ask_int3():\n",
    "    valid_input = True\n",
    "    while valid_input:\n",
    "        try:\n",
    "            a = int(input(\"Please enter integer value\"))\n",
    "        except Exception as ex:\n",
    "            print(\"exception occoured : \"+str(ex))\n",
    "            continue\n",
    "        else:\n",
    "            print(\"it has executed try block without error\")\n",
    "            valid_input = False\n",
    "        finally:\n",
    "            print(\"this block should execute itself no matter what\")\n",
    "            try:\n",
    "                print(\"entered integer value : \")\n",
    "                print(a)\n",
    "            except Exception as ex:\n",
    "                print(\"exception occoured : \"+str(ex))\n",
    "    print(\"end of code\")"
   ]
  },
  {
   "cell_type": "code",
   "execution_count": 19,
   "metadata": {},
   "outputs": [
    {
     "name": "stdout",
     "output_type": "stream",
     "text": [
      "Please enter integer valuesfed\n",
      "exception occoured : invalid literal for int() with base 10: 'sfed'\n",
      "this block should execute itself no matter what\n",
      "entered integer value : \n",
      "exception occoured : local variable 'a' referenced before assignment\n",
      "Please enter integer valueer\n",
      "exception occoured : invalid literal for int() with base 10: 'er'\n",
      "this block should execute itself no matter what\n",
      "entered integer value : \n",
      "exception occoured : local variable 'a' referenced before assignment\n",
      "Please enter integer value55\n",
      "it has executed try block without error\n",
      "this block should execute itself no matter what\n",
      "entered integer value : \n",
      "55\n",
      "end of code\n"
     ]
    }
   ],
   "source": [
    "ask_int3()"
   ]
  },
  {
   "cell_type": "code",
   "execution_count": 20,
   "metadata": {},
   "outputs": [],
   "source": [
    "# version 4\n",
    "def ask_int4():\n",
    "    while True:\n",
    "        try:\n",
    "            a = int(input(\"Please enter integer value\"))\n",
    "        except Exception as ex:\n",
    "            print(\"exception occoured : \"+str(ex))\n",
    "            continue\n",
    "        else:\n",
    "            print(\"it has executed try block without error\")\n",
    "            valid_input = False\n",
    "            break\n",
    "        finally:\n",
    "            print(\"this block should execute itself no matter what\")\n",
    "            try:\n",
    "                print(\"entered integer value : \"+ str(a))\n",
    "            except Exception as ex:\n",
    "                print(\"exception occoured : \"+str(ex))\n",
    "    print(\"end of code\")"
   ]
  },
  {
   "cell_type": "code",
   "execution_count": 21,
   "metadata": {},
   "outputs": [
    {
     "name": "stdout",
     "output_type": "stream",
     "text": [
      "Please enter integer valuehil\n",
      "exception occoured : invalid literal for int() with base 10: 'hil'\n",
      "this block should execute itself no matter what\n",
      "exception occoured : local variable 'a' referenced before assignment\n",
      "Please enter integer valueer3e\n",
      "exception occoured : invalid literal for int() with base 10: 'er3e'\n",
      "this block should execute itself no matter what\n",
      "exception occoured : local variable 'a' referenced before assignment\n",
      "Please enter integer value34\n",
      "it has executed try block without error\n",
      "this block should execute itself no matter what\n",
      "entered integer value : 34\n",
      "end of code\n"
     ]
    }
   ],
   "source": [
    "ask_int4()"
   ]
  },
  {
   "cell_type": "code",
   "execution_count": 28,
   "metadata": {},
   "outputs": [
    {
     "name": "stdout",
     "output_type": "stream",
     "text": [
      "there is IO error in above code\n"
     ]
    }
   ],
   "source": [
    "try :\n",
    "    f = open(\"xyz.txt\")\n",
    "    f.write(\"New line added\")\n",
    "except FileNotFoundError:\n",
    "    print(\"there is File Not Found Error in above code\")\n",
    "except IOError:\n",
    "    print(\"there is IO error in above code\")\n",
    "except OSError:\n",
    "    print(\"there is IO error in above code\")\n",
    "except Exception as ex:\n",
    "    print(\"there is error in above code\", e)"
   ]
  },
  {
   "cell_type": "code",
   "execution_count": 33,
   "metadata": {},
   "outputs": [
    {
     "name": "stdout",
     "output_type": "stream",
     "text": [
      "there is error in above code not writable\n"
     ]
    }
   ],
   "source": [
    "# another way\n",
    "try :\n",
    "    f = open(\"xyz.txt\")\n",
    "    f.write(\"New line added\")\n",
    "except (FileNotFoundError,IOError, OSError, Exception) as ex:\n",
    "    print(\"there is error in above code\", ex)"
   ]
  },
  {
   "cell_type": "markdown",
   "metadata": {},
   "source": [
    "# thow exception with Raise"
   ]
  },
  {
   "cell_type": "code",
   "execution_count": 37,
   "metadata": {},
   "outputs": [
    {
     "name": "stdout",
     "output_type": "stream",
     "text": [
      "Please enter positive integer value -9\n",
      "there is error in above code :  This is not a positive number\n"
     ]
    }
   ],
   "source": [
    "try :\n",
    "    a = int(input(\"Please enter positive integer value \"))\n",
    "    if a < 0 :\n",
    "        raise ValueError(\"This is not a positive number\")\n",
    "except ValueError as ex:\n",
    "    print(\"error : \", ex)"
   ]
  },
  {
   "cell_type": "code",
   "execution_count": 39,
   "metadata": {},
   "outputs": [
    {
     "name": "stdout",
     "output_type": "stream",
     "text": [
      "Please enter an integer value 2\n",
      "error :  This is not a valid number\n"
     ]
    }
   ],
   "source": [
    "try :\n",
    "    a = int(input(\"Please enter an integer value \"))\n",
    "    f = 56/a\n",
    "    if f % 2 == 0 :\n",
    "        raise ValueError(\"This is not a valid number\")\n",
    "except ValueError as ex:\n",
    "    print(\"error : \", ex)"
   ]
  },
  {
   "cell_type": "markdown",
   "metadata": {},
   "source": [
    "# database operations"
   ]
  },
  {
   "cell_type": "code",
   "execution_count": 40,
   "metadata": {},
   "outputs": [],
   "source": [
    "# import\n",
    "import sqlite3"
   ]
  },
  {
   "cell_type": "code",
   "execution_count": 41,
   "metadata": {},
   "outputs": [],
   "source": [
    "conn = sqlite3.connect(\"python_class_db\")"
   ]
  },
  {
   "cell_type": "code",
   "execution_count": 43,
   "metadata": {},
   "outputs": [
    {
     "data": {
      "text/plain": [
       "<sqlite3.Cursor at 0x7876b90>"
      ]
     },
     "execution_count": 43,
     "metadata": {},
     "output_type": "execute_result"
    }
   ],
   "source": [
    "conn.execute(\"drop table if exists abc\")"
   ]
  },
  {
   "cell_type": "code",
   "execution_count": 44,
   "metadata": {},
   "outputs": [
    {
     "data": {
      "text/plain": [
       "<sqlite3.Cursor at 0x71c1340>"
      ]
     },
     "execution_count": 44,
     "metadata": {},
     "output_type": "execute_result"
    }
   ],
   "source": [
    "conn.execute(\"create table abc(id int, name text, score int)\")"
   ]
  },
  {
   "cell_type": "code",
   "execution_count": 45,
   "metadata": {},
   "outputs": [
    {
     "data": {
      "text/plain": [
       "<sqlite3.Cursor at 0x71c1260>"
      ]
     },
     "execution_count": 45,
     "metadata": {},
     "output_type": "execute_result"
    }
   ],
   "source": [
    "conn.execute(\"insert into abc(id,name,score) values(1, 'ravi teja', 384)\")"
   ]
  },
  {
   "cell_type": "code",
   "execution_count": 46,
   "metadata": {},
   "outputs": [
    {
     "data": {
      "text/plain": [
       "<sqlite3.Cursor at 0x71c12d0>"
      ]
     },
     "execution_count": 46,
     "metadata": {},
     "output_type": "execute_result"
    }
   ],
   "source": [
    "conn.execute(\"insert into abc(id,name,score) values(2, 'junior NTR', 404)\")"
   ]
  },
  {
   "cell_type": "code",
   "execution_count": 47,
   "metadata": {},
   "outputs": [],
   "source": [
    "conn.commit()"
   ]
  },
  {
   "cell_type": "code",
   "execution_count": 49,
   "metadata": {},
   "outputs": [
    {
     "data": {
      "text/plain": [
       "[(1, 'ravi teja', 384), (2, 'junior NTR', 404)]"
      ]
     },
     "execution_count": 49,
     "metadata": {},
     "output_type": "execute_result"
    }
   ],
   "source": [
    "# select query\n",
    "list(conn.execute(\"Select * from  abc\"))"
   ]
  },
  {
   "cell_type": "code",
   "execution_count": 50,
   "metadata": {},
   "outputs": [
    {
     "data": {
      "text/plain": [
       "tuple"
      ]
     },
     "execution_count": 50,
     "metadata": {},
     "output_type": "execute_result"
    }
   ],
   "source": [
    "# return tuple data\n",
    "type(list(conn.execute(\"Select * from  abc\"))[0])"
   ]
  },
  {
   "cell_type": "code",
   "execution_count": 51,
   "metadata": {},
   "outputs": [
    {
     "name": "stdout",
     "output_type": "stream",
     "text": [
      "(1, 'ravi teja', 384)\n",
      "(2, 'junior NTR', 404)\n"
     ]
    }
   ],
   "source": [
    "for i in conn.execute(\"Select * from  abc\"):\n",
    "    print(i)"
   ]
  },
  {
   "cell_type": "code",
   "execution_count": 52,
   "metadata": {},
   "outputs": [
    {
     "name": "stdout",
     "output_type": "stream",
     "text": [
      "(2, 'junior NTR', 404)\n",
      "(1, 'ravi teja', 384)\n"
     ]
    }
   ],
   "source": [
    "for i in conn.execute(\"Select * from  abc order by score desc\"):\n",
    "    print(i)"
   ]
  },
  {
   "cell_type": "code",
   "execution_count": 53,
   "metadata": {},
   "outputs": [
    {
     "name": "stdout",
     "output_type": "stream",
     "text": [
      "(2, 'junior NTR')\n"
     ]
    }
   ],
   "source": [
    "for i in conn.execute(\"Select id,name from  abc where name = 'junior NTR'\"):\n",
    "    print(i)"
   ]
  },
  {
   "cell_type": "markdown",
   "metadata": {},
   "source": [
    "# MySQL connection"
   ]
  },
  {
   "cell_type": "code",
   "execution_count": 61,
   "metadata": {},
   "outputs": [
    {
     "name": "stdout",
     "output_type": "stream",
     "text": [
      "Collecting mysql-connector\n",
      "  Downloading mysql-connector-2.2.9.tar.gz (11.9 MB)\n",
      "Building wheels for collected packages: mysql-connector\n",
      "  Building wheel for mysql-connector (setup.py): started\n",
      "  Building wheel for mysql-connector (setup.py): finished with status 'done'\n",
      "  Created wheel for mysql-connector: filename=mysql_connector-2.2.9-cp37-cp37m-win_amd64.whl size=247952 sha256=6a6050acbe3984c51eb0c1d5daa58317027fa8ed7b7eeca6516f22ca29740e01\n",
      "  Stored in directory: c:\\users\\sahmed\\appdata\\local\\pip\\cache\\wheels\\42\\2f\\c3\\692fc7fc1f0d8c06b9175d94f0fc30f4f92348f5df5af1b8b7\n",
      "Successfully built mysql-connector\n",
      "Installing collected packages: mysql-connector\n",
      "Successfully installed mysql-connector-2.2.9\n"
     ]
    }
   ],
   "source": [
    "!pip install mysql-connector"
   ]
  },
  {
   "cell_type": "code",
   "execution_count": 62,
   "metadata": {},
   "outputs": [],
   "source": [
    "import mysql.connector"
   ]
  },
  {
   "cell_type": "code",
   "execution_count": null,
   "metadata": {},
   "outputs": [],
   "source": []
  }
 ],
 "metadata": {
  "kernelspec": {
   "display_name": "Python 3",
   "language": "python",
   "name": "python3"
  },
  "language_info": {
   "codemirror_mode": {
    "name": "ipython",
    "version": 3
   },
   "file_extension": ".py",
   "mimetype": "text/x-python",
   "name": "python",
   "nbconvert_exporter": "python",
   "pygments_lexer": "ipython3",
   "version": "3.7.6"
  }
 },
 "nbformat": 4,
 "nbformat_minor": 4
}
